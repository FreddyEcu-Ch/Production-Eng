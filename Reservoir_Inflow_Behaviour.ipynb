{
 "cells": [
  {
   "cell_type": "markdown",
   "metadata": {
    "cell_id": "87d04c1f-b866-42a5-9cf9-15640f10e445",
    "deepnote_cell_height": 81.60000610351562,
    "deepnote_cell_type": "markdown",
    "tags": []
   },
   "source": [
    "# Production Engineering"
   ]
  },
  {
   "cell_type": "markdown",
   "metadata": {
    "cell_id": "bc1e6f70-15da-4851-85af-9092cdcca201",
    "deepnote_cell_height": 521.5999755859375,
    "deepnote_cell_type": "markdown"
   },
   "source": [
    "## Contents\n",
    "\n",
    "- **Part 1 - Production Engineering functions**\n",
    "    - 1.1. Productivity Index taking into acount petrophysical and fluid propierties\n",
    "    - 1.2. Productivity Index with productivity test data\n",
    "    - 1.3. Oil Flow Rate at Bubble Point\n",
    "    - 1.4. AOF at different conditions\n",
    "    - 1.5. Qo at Different Conditions\n",
    "        - 1.5.1 Using Darcy's equation (linear)\n",
    "        - 1.5.2 Using Vogel's method (non linear)\n",
    "        - 1.5.3 Generating composite IPR Curve\n",
    "\n",
    "- **Part 2 - IPR Curves**\n",
    "    - 2.1. Non-automated IPR curve\n",
    "    - 2.2. Automated IPR curve using a function\n",
    "    - 2.3. IPR curve valid for the 3 methods reviewed\n",
    "\n",
    "- **Exercises**\n",
    "- **Test**"
   ]
  },
  {
   "cell_type": "markdown",
   "metadata": {
    "cell_id": "8535ad03-fc74-4587-9e39-d727671636c7",
    "deepnote_cell_height": 743.4666748046875,
    "deepnote_cell_type": "markdown",
    "tags": []
   },
   "source": [
    "![Picture title](Resources/prod.png)"
   ]
  },
  {
   "cell_type": "markdown",
   "metadata": {
    "cell_id": "00001-1a759da9-f38b-4586-8e98-d7d317b0937b",
    "deepnote_cell_height": 292.066650390625,
    "deepnote_cell_type": "markdown"
   },
   "source": [
    "# *Reservoir Inflow Behaviour*\n",
    "\n",
    "In this notebook, there are several functions which serve as input data to generate a function that allows to build **IPR (Inflow Performance Relationship) curves**. Two fundamental functions are presented for the calculation of the IPR based on the **Darcy and Voguel** equations, which are used to calculate the following parameters:\n",
    "\n",
    "- $J$: Productivity Index\n",
    "- $Q_{b}$: Bubble point flow rate.\n",
    "- $AOF$: Maximum flow rate\n",
    "- $Q_{o}$: Oil flow rate"
   ]
  },
  {
   "cell_type": "markdown",
   "metadata": {
    "cell_id": "00002-2a4957ef-7b32-43ac-8591-66769bc4f1de",
    "deepnote_cell_height": 45.600006103515625,
    "deepnote_cell_type": "markdown"
   },
   "source": [
    "***"
   ]
  },
  {
   "cell_type": "markdown",
   "metadata": {
    "cell_id": "00003-be768a4f-357e-4b90-9d1b-1c617aefdcc1",
    "deepnote_cell_height": 634,
    "deepnote_cell_type": "markdown"
   },
   "source": [
    "![multiphase flow](Resources/inflow.png)\n",
    "*Figure 1. Oil reservoir*"
   ]
  },
  {
   "cell_type": "markdown",
   "metadata": {
    "cell_id": "00004-1a14d057-736f-4639-af91-62f91e16a09c",
    "deepnote_cell_height": 81.60000610351562,
    "deepnote_cell_type": "markdown"
   },
   "source": [
    "# Import Python Libraries"
   ]
  },
  {
   "cell_type": "code",
   "execution_count": 1,
   "metadata": {
    "cell_id": "00005-484ef9fc-ad09-4610-92a0-0c0e3a3f4992",
    "deepnote_cell_height": 134.60000610351562,
    "deepnote_cell_type": "code",
    "deepnote_to_be_reexecuted": false,
    "execution_millis": 1837,
    "execution_start": 1646584055400,
    "source_hash": "fb693ef1"
   },
   "outputs": [],
   "source": [
    "import pandas as pd\n",
    "import numpy as np\n",
    "import matplotlib.pyplot as plt\n",
    "from scipy.interpolate import make_interp_spline"
   ]
  },
  {
   "cell_type": "markdown",
   "source": [
    "# **Part 1. Production engineering functions**"
   ],
   "metadata": {
    "collapsed": false,
    "pycharm": {
     "name": "#%% md\n"
    }
   }
  },
  {
   "cell_type": "markdown",
   "source": [
    "In this section, functions are generated to calculate the parameters mentioned at the beginning:\n",
    "\n",
    "- $J$: Productivity Index\n",
    "- $Q_{b}$: Bubble point flow rate\n",
    "- $AOF$: Maximum flow rate\n",
    "- $Q_{o}$: Oil flow rate, using the methods of:\n",
    "    - Darcy\n",
    "    - Voguel\n",
    "    - Composite IPR\n",
    "    - Standing"
   ],
   "metadata": {
    "collapsed": false,
    "pycharm": {
     "name": "#%% md\n"
    }
   }
  },
  {
   "cell_type": "markdown",
   "source": [
    "## **1.1. Productivity Index Taking into account Petrophysical and Fluid Properties**\n",
    "\n",
    "$$J=\\frac{K_{o}\\,h}{141.2\\,B_{o}\\,u_{o}(\\ln{\\frac{r_{e}}{r_{w}}}-0.75+s)}$$\n",
    "\n",
    "**Where:** \\\n",
    "*$J$:* Productivity Index (bpd/psi)\\\n",
    "*$K_{o}$:* Effective permeablity (md)\\\n",
    "*$h$:* Thickness (ft)\\\n",
    "*$B_{o}$:* Oil Formation Volume Factor (rb/stb)\\\n",
    "*$u_{o}$:* Oil Viscosity (cp)\\\n",
    "*$r_{e}$:* Drainage radius (ft)\\\n",
    "*$r_{w}$:* Well radius (ft)\\\n",
    "*$s$:* Skin"
   ],
   "metadata": {
    "collapsed": false,
    "pycharm": {
     "name": "#%% md\n"
    }
   }
  },
  {
   "cell_type": "code",
   "execution_count": null,
   "outputs": [],
   "source": [
    "# Productivity Index (darcy law)\n",
    "def j_darcy(ko, h, bo, uo, re, rw, s, flow_regime = 'seudocontinuo'):\n",
    "    if flow_regime == 'seudocontinuo':\n",
    "        J_darcy = ko * h / (141.2 * bo * uo * (np.log(re / rw) - 0.75 + s))\n",
    "    elif flow_regime == 'continuo':\n",
    "        J_darcy = ko * h / (141.2 * bo * uo * (np.log(re / rw) + s))\n",
    "    return J_darcy"
   ],
   "metadata": {
    "collapsed": false,
    "pycharm": {
     "name": "#%%\n"
    }
   }
  },
  {
   "cell_type": "markdown",
   "source": [
    "## **1.2. Productivity Index with productivity test data**\n",
    "\n",
    "In the elaboration of all these functions, it will be important to note that the arguments **$EF$ and $EF_{2}$** are default arguments, however, they could be changed if the need arises. For example, **$EF_{2}$** will only be used when after performing another production test in the well, it has increased its damage, or in the best case, it has decreased its damage, by the implementation of some stimulation process.\n",
    "\n",
    "- If $EF$=1:\n",
    "    -  Sí $Pwf_{test}$ >= $P_{b}$:\n",
    "    \n",
    "$$J=\\frac{Qo_{test}}{P_{r} - Pwf_{test}}$$ \n",
    "\n",
    "    - Otherwise:\n",
    "\n",
    "$$J = \\frac{Qo_{test}}{(P_{r}-P_{b})+(\\frac{P_{b}}{1.8})[1-0.2(\\frac{Pwf_{test}}{P_{b}})-0.8(\\frac{Pwf_{test}}{P_{b}})^2]}$$\n",
    "\n",
    "The following conditions are shown, taking into account $EF\\neq1$, which are used to calculate the productivity index considering the damage factor, and consequently, the flow efficiency is already 100%.\n",
    "\n",
    "- If $EF\\neq1$ y $EF_{2}$ does not exist:\n",
    "    -  If $Pwf_{test}$ >= $P_{b}$:\n",
    "    \n",
    "$$J=\\frac{Qo_{test}}{P_{r} - Pwf_{test}}$$\n",
    "\n",
    "    - Otherwise:\n",
    "\n",
    "$$J = \\frac{Qo_{test}}{(P_{r}-P_{b})+(\\frac{P_{b}}{1.8})[1.8 (1-\\frac{Pwf_{test}}{P_{b}})-0.8 EF (1-\\frac{Pwf_{test}}{P_{b}})^2]}$$\n",
    "\n",
    "- If $EF\\neq1$ and $EF_{2}$ exist:\n",
    "    -  If $Pwf_{test}$ >= $P_{b}$:\n",
    "    \n",
    "$$J=\\frac{Qo_{test}}{(P_{r} - Pwf_{test})EF}EF_{2}$$\n",
    "\n",
    "    - Otherwise:\n",
    "    \n",
    "$$\n",
    "J=\\left(\\frac{Q o_{\\text {test }}}{\\left\\{\\left(P_{r}-P_{b}\\right)+\\left(\\frac{P_{b}}{1.8}\\right)\\left[1.8\\left(1-\\frac{P w f_{\\text {test }}}{P_{b}}\\right)-0.8 E F\\left(1-\\frac{P w f_{\\text {test }}}{P_{b}}\\right)^{2}\\right]\\right\\} E F}\\right) E F_{2}\n",
    "$$\n",
    "\n",
    "**Where:** \n",
    "\n",
    "*$J$:* Productivity index (bpd/psi).\\\n",
    "*$Qo_{test}$:* Test oil flow rate (bpd).\\\n",
    "*$P_{r}$:* Reservoir pressure (psia).\\\n",
    "*$P_{b}$:* Bubble point pressure (psia).\\\n",
    "*$Pwf_{test}$:* Flowing bottom pressure of test (psia).\\\n",
    "*$EF$:* Flow efficiency.\\\n",
    "*$EF_{2}$:* Well flow efficiency measured after a period of time."
   ],
   "metadata": {
    "collapsed": false,
    "pycharm": {
     "name": "#%% md\n"
    }
   }
  },
  {
   "cell_type": "code",
   "execution_count": null,
   "outputs": [],
   "source": [
    "# Productivity Index\n",
    "def j(q_test, pwf_test, pr, pb, ef=1, ef2=None):\n",
    "    if ef == 1:\n",
    "        if pwf_test >= pb:\n",
    "            J = q_test / (pr - pwf_test)\n",
    "        else:\n",
    "            J = q_test / ((pr - pb) + (pb / 1.8) * \\\n",
    "                          (1 - 0.2 * (pwf_test / pb) - 0.8 * (pwf_test / pb)**2))\n",
    "    elif ef != 1 and ef2 is None:\n",
    "        if pwf_test >= pb:\n",
    "            J = q_test / (pr - pwf_test)\n",
    "        else:\n",
    "            J = q_test / ((pr - pb) + (pb / 1.8) * \\\n",
    "                          (1.8 * (1 - pwf_test / pb) - 0.8 * ef * (1 - pwf_test / pb)**2))\n",
    "    elif ef !=1 and ef2 is not None:\n",
    "        if pwf_test >= pb:\n",
    "            J = ((q_test / (pr - pwf_test)) / ef) * ef2\n",
    "        else:\n",
    "            J = ((q_test / ((pr - pb) + (pb / 1.8) *\\\n",
    "                            (1.8 * (1 - pwf_test / pb) - 0.8 *\\\n",
    "                             ef * (1 - pwf_test / pb)**2))) / ef) * ef2\n",
    "    return J"
   ],
   "metadata": {
    "collapsed": false,
    "pycharm": {
     "name": "#%%\n"
    }
   }
  },
  {
   "cell_type": "markdown",
   "source": [
    "## **1.3. Oil Flow Rate at Bubble Point**\n",
    "\n",
    "$$Q_{b}=J(P_{r} - P_{b})$$\n",
    "\n",
    "**Where:** \\\n",
    "*$Q_{b}$:* Oil Flow Rate at Bubble Point (bpd) \\\n",
    "*$J$:* Productivity Index (bpd/psi) \\\n",
    "*$P_{r}$:* Reservoir Pressure (psia) \\\n",
    "*$P_{b}$:* Bubble Point Pressue (psia)"
   ],
   "metadata": {
    "collapsed": false,
    "pycharm": {
     "name": "#%% md\n"
    }
   }
  },
  {
   "cell_type": "code",
   "execution_count": null,
   "outputs": [],
   "source": [
    "# Q(bpd) @ Pb \n",
    "def Qb(q_test, pwf_test, pr, pb, ef=1, ef2=None):\n",
    "    qb = j(q_test, pwf_test, pr, pb, ef, ef2) * (pr - pb)\n",
    "    return qb"
   ],
   "metadata": {
    "collapsed": false,
    "pycharm": {
     "name": "#%%\n"
    }
   }
  },
  {
   "cell_type": "markdown",
   "source": [
    "## **1.4. AOF at different conditions**\n",
    "\n",
    "It is important to note that only the equations of the first condition are shown, the rest of the equations can be derived from the codes.\n",
    "\n",
    "- iF $EF$ = 1 y $EF_{2}$ does not exist:\n",
    "    - Sí $P_{r}$ > $P_{b}$ -> The reservoir is **UNDERSATURATED**: \n",
    "\n",
    "In this case, there are 2 conditions: \n",
    "\n",
    "- If $Pwf_{tetst}$ >= $P_{b}$: \n",
    "$$AOF=JP_{r}$$ \n",
    "\n",
    "- Otherwise, \n",
    "$$AOF=Q_{b} + \\frac{JP_{b}}{1.8}$$\n",
    "\n",
    "- On the other hand, if $P_{r}$ <= $P_{b}$ -> the reservoir is **SATURATED:** \n",
    "\n",
    "At this condition:\n",
    "\n",
    "$$AOF=\\frac{Qo_{test}}{1 - 0.2 (\\frac{Pwf_{test}}{P_{r}}) - 0.8 (\\frac{Pwf_{test}}{P_{r}})^2}$$\n",
    "\n",
    "**Where:**\n",
    "\n",
    "*$AOF$:* Maximum flow rate (bpd).\n",
    "\n",
    "*$Q_{b}$:* Bubble point flow rate(bpd).\n",
    "\n",
    "*$J$:* Productivity index (bpd/psi).\n",
    "\n",
    "*$P_{r}$:* Reservoir pressure (psia).\n",
    "\n",
    "*$P_{b}$:* Bubble point pressure (psia).\n",
    "\n",
    "*$Pwf$:* Flowing bottom pressure (psia).\n",
    "\n",
    "*$Pwf_{test}$:* Flowing bottom pressure of test (psia).\n",
    "\n",
    "*$Qo_{test}$:* Test oil flow rate (bpd).\n",
    "\n",
    "*$EF$:* Flow efficiency.\n",
    "\n",
    "*$EF_{2}$:* Well flow efficiency measured after a period of time."
   ],
   "metadata": {
    "collapsed": false,
    "pycharm": {
     "name": "#%% md\n"
    }
   }
  },
  {
   "cell_type": "code",
   "execution_count": null,
   "outputs": [],
   "source": [
    "# AOF(bpd)\n",
    "def aof(q_test, pwf_test, pr, pb, ef=1, ef2=None):\n",
    "    if (ef == 1 and ef2 is None):\n",
    "        if pr > pb: # Yac. subsaturado\n",
    "            if pwf_test >= pb:\n",
    "                AOF = j(q_test, pwf_test, pr, pb) * pr\n",
    "            elif pwf_test <  pb:\n",
    "                AOF = Qb(q_test, pwf_test, pr, pb, ef=1) + ((j(q_test, pwf_test, pr, pb) * pb) / 1.8)\n",
    "        else: # Yac. Saturado\n",
    "            AOF = q_test / (1 - 0.2 * (pwf_test / pr) - 0.8 * (pwf_test / pr)**2)\n",
    "            \n",
    "    elif (ef < 1 and ef2 is None):\n",
    "        if pr > pb:\n",
    "            if pwf_test >= pb:\n",
    "                AOF = j(q_test, pwf_test, pr, pb, ef) * pr\n",
    "            elif pwf_test < pb:\n",
    "                AOF = Qb(q_test, pwf_test, pr, pb, ef) + ((j(q_test, pwf_test, pr, pb, ef) * pb) / 1.8) * (1.8 - 0.8 * ef)\n",
    "        else:\n",
    "            AOF = (q_test / (1.8 * ef * (1 - pwf_test/pr) - 0.8 * ef**2 * (1 - pwf_test/pr)**2)) * (1.8 * ef - 0.8 * ef**2)\n",
    "            \n",
    "    elif (ef > 1 and ef2 is None):\n",
    "        if pr > pb:\n",
    "            if pwf_test >= pb:\n",
    "                AOF = j(q_test, pwf_test, pr, pb, ef) * pr\n",
    "            elif pwf_test < pb:\n",
    "                AOF = Qb(q_test, pwf_test, pr, pb, ef) +  ((j(q_test, pwf_test, pr, pb, ef) * pb) / 1.8) * (0.624 + 0.376 * ef)\n",
    "        else:\n",
    "            AOF = (q_test / (1.8 * ef * (1 - pwf_test/pr) - 0.8 * ef**2 * (1 - pwf_test/pr)**2)) * (0.624 + 0.376 * ef)\n",
    "            \n",
    "    elif (ef < 1 and ef2 >= 1):\n",
    "        if pr > pb:\n",
    "            if pwf_test >= pb:\n",
    "                AOF =  j(q_test, pwf_test, pr, pb, ef, ef2) * pr\n",
    "            elif pwf_test < pb:\n",
    "                AOF = Qb(q_test, pwf_test, pr, pb, ef, ef2) + (j(q_test, pwf_test, pr, pb, ef, ef2) * pb / 1.8) * (0.624 + 0.376 * ef2)\n",
    "        else:\n",
    "            AOF = (q_test / (1.8 * ef * (1 - pwf_test/pr) - 0.8 * ef**2 * (1 - pwf_test/pr)**2)) * (0.624 + 0.376 * ef2)\n",
    "            \n",
    "    elif (ef > 1 and ef2 <= 1):\n",
    "        if pr > pb:\n",
    "            if pwf_test >= pb:\n",
    "                AOF = j(q_test, pwf_test, pr, pb, ef, ef2) * pr\n",
    "            elif pwf_test < pb:\n",
    "                AOF = Qb(q_test, pwf_test, pr, pb, ef, ef2) + (j(q_test, pwf_test, pr, pb, ef, ef2) * pb / 1.8) * (1.8 - 0.8 * ef2)\n",
    "        else:\n",
    "            AOF = (q_test / (1.8 * ef * (1 - pwf_test/pr) - 0.8 * ef**2 * (1 - pwf_test/pr)**2)) * (1.8 * ef - 0.8 * ef2**2)\n",
    "    return AOF"
   ],
   "metadata": {
    "collapsed": false,
    "pycharm": {
     "name": "#%%\n"
    }
   }
  },
  {
   "cell_type": "markdown",
   "source": [
    "## **1.5. $Q_{o}$ at Different Conditions**"
   ],
   "metadata": {
    "collapsed": false,
    "pycharm": {
     "name": "#%% md\n"
    }
   }
  },
  {
   "cell_type": "markdown",
   "source": [
    "### **1.5.1. $Q_{o}$ using Darcy's equation (linear method)**\n",
    "\n",
    "This equation is valid when the reservoir is undersaturated. That is: $P_{r}$ > $P_{b}$.\n",
    "\n",
    "$$Q_{o}=J(P_{r} - P_{wf})$$\n",
    "\n",
    "**Where:**\n",
    "\n",
    "*$Q_{o}$:* Oil flow rate (bpd)\\\n",
    "*$J$:* Productivity index (bpd/psi)\\\n",
    "*$P_{r}$:* Reservoir pressure (psia) \\\n",
    "*$P_{b}$:* Bubble point pressure (psia)"
   ],
   "metadata": {
    "collapsed": false,
    "pycharm": {
     "name": "#%% md\n"
    }
   }
  },
  {
   "cell_type": "code",
   "execution_count": null,
   "outputs": [],
   "source": [
    "# Qo (bpd) @ Darcy Conditions\n",
    "def qo_darcy(q_test, pwf_test, pr, pwf, pb, ef=1, ef2=None):\n",
    "    qo = j(q_test, pwf_test, pr, pb) * (pr - pwf)\n",
    "    return qo"
   ],
   "metadata": {
    "collapsed": false,
    "pycharm": {
     "name": "#%%\n"
    }
   }
  },
  {
   "cell_type": "markdown",
   "source": [
    "### **1.5.2. $Q_{o}$ using Vogel's method**. \n",
    "\n",
    "This **Vogel** method, is valid for **saturated reservoir and for $EF$ = 1**.\n",
    "\n",
    "The conditions under which the **Vogel** equation can be used are listed below:\n",
    "\n",
    "- If $P_{r}$ <= $P_{b}$ -> the reservoir is **SATURATED**. Therefore, the **VOGEL** equation is used:\n",
    "\n",
    "$$Q_{o}=AOF [1-0.2 (\\frac{Pwf}{P_{r}})-0.8 (\\frac{Pwf}{P_{r}})^2]$$\n",
    "\n",
    "\n",
    "**Where:**\n",
    "\n",
    "*$Q_{o}$:* Oil flow rate (bpd)\\\n",
    "*$AOF$:* Maximum flow rate (bpd)\\\n",
    "*$P_{r}$:* Reservoir pressure (psia)\\\n",
    "*$P_{b}$:* Pressure at bubble point (psia)\\\n",
    "*$Pwf$:* Flowing bottom pressure (psia)\\\n",
    "*$EF$:* Flowing efficiency"
   ],
   "metadata": {
    "collapsed": false,
    "pycharm": {
     "name": "#%% md\n"
    }
   }
  },
  {
   "cell_type": "code",
   "execution_count": null,
   "outputs": [],
   "source": [
    "#Qo(bpd) @ vogel conditions\n",
    "def qo_vogel(q_test, pwf_test, pr, pwf, pb, ef=1, ef2=None):\n",
    "    qo = aof(q_test, pwf_test, pr, pb) * \\\n",
    "         (1 - 0.2 * (pwf / pr) - 0.8 * ( pwf / pr)**2)\n",
    "    return qo"
   ],
   "metadata": {
    "collapsed": false,
    "pycharm": {
     "name": "#%%\n"
    }
   }
  },
  {
   "cell_type": "markdown",
   "source": [
    "### **1.5.3. $Q_{o}$ to generate composite IPR curve**. \n",
    "\n",
    "This method combines the **Darcy equation and the Vogel equation**, because the IPR curve is **linear** up to the bubble point, and subsequently has a parabolic form, by using the **Vogel equation** for values below the bubble point.\n",
    "\n",
    "The conditions for the calculation of this $Q_{O}$ are detailed below:\n",
    "\n",
    "- **If $P_{r}$ > $P_{b}$** -> the reservoir is **SUBSATURED**: \n",
    "\n",
    "For this case, there are 2 conditions: \n",
    "\n",
    "- If $Pwf$ >= $P_{b}$$, the **Darcy** equation is used: \n",
    "\n",
    "$$Q_{o}=J(P_{r} - Pwf)$$. \n",
    "\n",
    "- If $Pwf$ < $P_{b}$, the **VOGEL** equation is used:\n",
    "\n",
    "$$Q_{o}=Q_{b} + \\frac{JP_{b}}{1.8}[1-0.2 (\\frac{Pwf}{P_{b}})-0.8 (\\frac{Pwf}{P_{b}})^2]$$\n",
    "\n",
    "On the other hand, if $P_{r}$ <= $P_{b}$ -> THE reservoir is **SATURED:** \n",
    "\n",
    "To this condition, the **VOGEL** equation is also used:\n",
    "\n",
    "$$Q_{o}=AOF[1-0.2 (\\frac{Pwf}{P_{r}})-0.8 (\\frac{Pwf}{P_{r}})^2]$$\n",
    "\n",
    "**Where:**\n",
    "\n",
    "*$Q_{o}$:* Oil flow rate (bpd)\\\n",
    "*$AOF$:* Maximun oil flow rate (bpd)\\\n",
    "*$J$:* Productivity index (bpd/psi)\\\n",
    "*$P_{r}$:* Reservoir pressure (psia)\\\n",
    "*$P_{b}$:* Pressure at bubble point\\\n",
    "*$Pwf$:* Flowing bottom pressure (psia)"
   ],
   "metadata": {
    "collapsed": false,
    "pycharm": {
     "name": "#%% md\n"
    }
   }
  },
  {
   "cell_type": "code",
   "execution_count": null,
   "outputs": [],
   "source": [
    "#Qo(bpd) @ vogel conditions\n",
    "def qo_ipr_compuesto(q_test, pwf_test, pr, pwf, pb):\n",
    "    if pr > pb: # Yac. subsaturado\n",
    "        if pwf >= pb:\n",
    "            qo = qo_darcy(q_test, pwf_test, pr, pwf, pb)\n",
    "        elif pwf < pb: \n",
    "            qo =  Qb(q_test, pwf_test, pr, pb) + \\\n",
    "            ((j(q_test, pwf_test, pr, pb) * pb) / 1.8) *\\\n",
    "            (1 - 0.2 * (pwf / pb) - 0.8 * (pwf / pb)**2)\n",
    "            \n",
    "    elif pr <= pb: # Yac. Saturado\n",
    "        qo = aof(q_test, pwf_test, pr, pb) * \\\n",
    "        (1 - 0.2 * (pwf / pr) - 0.8 * ( pwf / pr)**2)\n",
    "    return qo"
   ],
   "metadata": {
    "collapsed": false,
    "pycharm": {
     "name": "#%%\n"
    }
   }
  },
  {
   "cell_type": "markdown",
   "source": [
    "## Taller\n",
    "\n",
    "Program a function to calculate Qo at Standing conditions"
   ],
   "metadata": {
    "collapsed": false,
    "pycharm": {
     "name": "#%% md\n"
    }
   }
  },
  {
   "cell_type": "code",
   "execution_count": null,
   "outputs": [],
   "source": [
    "# Qo(bpd) @Standing Conditions\n",
    "def qo_standing(q_test, pwf_test, pr, pwf, pb, ef=1, ef2=None):\n",
    "    qo = aof(q_test, pwf_test, pr, pb, ef=1) * (1.8 * ef * (1 - pwf / pr) - 0.8 * ef**2 * (1 - pwf / pr)**2)\n",
    "    return qo"
   ],
   "metadata": {
    "collapsed": false,
    "pycharm": {
     "name": "#%%\n"
    }
   }
  },
  {
   "cell_type": "code",
   "execution_count": null,
   "outputs": [],
   "source": [
    "#Qo(bpd) @ all conditions\n",
    "def qo(q_test, pwf_test, pr, pwf, pb, ef=1, ef2=None):\n",
    "    if ef == 1 and ef2 is None:\n",
    "        if pr > pb: # Yac. subsaturado\n",
    "            if pwf >= pb:\n",
    "                qo = qo_darcy(q_test, pwf_test, pr, pwf, pb)\n",
    "            elif pwf < pb:\n",
    "                qo =  Qb(q_test, pwf_test, pr, pb) + \\\n",
    "                ((j(q_test, pwf_test, pr, pb) * pb) / 1.8) *\\\n",
    "                (1 - 0.2 * (pwf / pb) - 0.8 * (pwf / pb)**2)\n",
    "        else: # Yac. Saturado\n",
    "            qo = qo_vogel(q_test, pwf_test, pr, pwf, pb)\n",
    "\n",
    "    elif ef != 1 and ef2 is None:\n",
    "        if pr > pb: # Yac. subsaturado\n",
    "            if pwf >= pb:\n",
    "                qo = qo_darcy(q_test, pwf_test, pr, pwf, pb, ef, ef2)\n",
    "            elif pwf < pb:\n",
    "                qo = Qb(q_test, pwf_test, pr, pb, ef) + \\\n",
    "                ((j(q_test, pwf_test, pr, pb, ef) * pb) / 1.8) *\\\n",
    "                (1.8 * (1 - pwf / pb) - 0.8 * ef * (1 - pwf / pb)**2)\n",
    "        else: # Yac.saturado\n",
    "            qo = qo_standing(q_test, pwf_test, pr, pwf, pb, ef)\n",
    "\n",
    "    elif ef !=1 and ef2 is not None:\n",
    "        if pr > pb: # Yac. subsaturado\n",
    "            if pwf >= pb:\n",
    "                qo = qo_darcy(q_test, pwf_test, pr, pwf, pb, ef, ef2)\n",
    "            elif pwf < pb:\n",
    "                qo = Qb(q_test, pwf_test, pr, pb, ef, ef2) + \\\n",
    "                ((j(q_test, pwf_test, pr, pb, ef, ef2) * pb) / 1.8) *\\\n",
    "                (1.8 * (1 - pwf / pb) - 0.8 * ef * (1 - pwf / pb)**2)\n",
    "            else: #Yac. saturado\n",
    "                qo = qo_standing(q_test, pwf_test, pr, pwf, pb, ef, ef2)\n",
    "    return qo"
   ],
   "metadata": {
    "collapsed": false,
    "pycharm": {
     "name": "#%%\n"
    }
   }
  },
  {
   "cell_type": "markdown",
   "source": [
    "# **Part 2. IPR Curves**"
   ],
   "metadata": {
    "collapsed": false,
    "pycharm": {
     "name": "#%% md\n"
    }
   }
  },
  {
   "cell_type": "code",
   "execution_count": null,
   "outputs": [],
   "source": [
    "# Data from a saturated reservoir\n",
    "pr = 2400 #psia\n",
    "pb = 2500 #psia\n",
    "pwf = 1000 #psia\n",
    "q_test = 100 #stb/d\n",
    "pwf_test = 1800 #psia"
   ],
   "metadata": {
    "collapsed": false,
    "pycharm": {
     "name": "#%%\n"
    }
   }
  },
  {
   "cell_type": "code",
   "execution_count": null,
   "outputs": [],
   "source": [
    "# Create Dataframe\n",
    "df = pd.DataFrame()\n",
    "df['Pwf(psia)'] = np.array([2400, 2000, 1500, 1000, 500, 0])\n",
    "df['Qo(bpd)'] = df['Pwf(psia)'].apply(lambda x: qo_vogel(q_test, pwf_test, pr, x, pb))"
   ],
   "metadata": {
    "collapsed": false,
    "pycharm": {
     "name": "#%%\n"
    }
   }
  },
  {
   "cell_type": "code",
   "execution_count": null,
   "outputs": [],
   "source": [
    "df"
   ],
   "metadata": {
    "collapsed": false,
    "pycharm": {
     "name": "#%%\n"
    }
   }
  },
  {
   "cell_type": "code",
   "execution_count": null,
   "outputs": [],
   "source": [
    "# Plot\n",
    "\n",
    "fig, ax = plt.subplots(figsize=(20, 10))\n",
    "x = df['Qo(bpd)']\n",
    "y = df['Pwf(psia)']\n",
    "X_Y_Spline = make_interp_spline(x, y) # This step is used to smooth the curve\n",
    "X_ = np.linspace(x.min(), x.max(), 500)\n",
    "Y_ = X_Y_Spline(X_)\n",
    "ax.plot(X_, Y_, c='g')\n",
    "ax.set_xlabel('Qo(bpd)', fontsize=14)\n",
    "ax.set_ylabel('Pwf(psia)', fontsize=14)\n",
    "ax.set_title('IPR', fontsize=18)\n",
    "ax.set(xlim=(0, df['Qo(bpd)'].max() + 10), ylim=(0, df['Pwf(psia)'][0] + 100))\n",
    "ax.grid()\n",
    "fig.show()"
   ],
   "metadata": {
    "collapsed": false,
    "pycharm": {
     "name": "#%%\n"
    }
   }
  },
  {
   "cell_type": "markdown",
   "source": [
    "Now, to automate the process, a function is created that directly generates the IPR curve."
   ],
   "metadata": {
    "collapsed": false,
    "pycharm": {
     "name": "#%% md\n"
    }
   }
  },
  {
   "cell_type": "markdown",
   "source": [
    "## **2.2. Automated IPR curve using a function**"
   ],
   "metadata": {
    "collapsed": false,
    "pycharm": {
     "name": "#%% md\n"
    }
   }
  },
  {
   "cell_type": "code",
   "execution_count": null,
   "outputs": [],
   "source": [
    "# IPR Curve\n",
    "def IPR_curve(q_test, pwf_test, pr, pwf:list, pb):\n",
    "    # Creating Dataframe\n",
    "    df = pd.DataFrame()\n",
    "    df['Pwf(psia)'] = pwf\n",
    "    df['Qo(bpd)'] = df['Pwf(psia)'].apply(lambda x: qo_ipr_compuesto(q_test, pwf_test, pr, x, pb))\n",
    "    fig, ax = plt.subplots(figsize=(20, 10))\n",
    "    x = df['Qo(bpd)']\n",
    "    y = df['Pwf(psia)']\n",
    "    # The following steps are used to smooth the curve\n",
    "    X_Y_Spline = make_interp_spline(x, y) \n",
    "    X_ = np.linspace(x.min(), x.max(), 500)\n",
    "    Y_ = X_Y_Spline(X_)\n",
    "    #Build the curve\n",
    "    ax.plot(X_, Y_, c='g')\n",
    "    ax.set_xlabel('Qo(bpd)', fontsize=14)\n",
    "    ax.set_ylabel('Pwf(psia)', fontsize=14)\n",
    "    ax.set_title('IPR', fontsize=18)\n",
    "    ax.set(xlim=(0, df['Qo(bpd)'].max() + 10), ylim=(0, df['Pwf(psia)'][0] + 100))\n",
    "    # Arrow and Annotations\n",
    "    plt.annotate(\n",
    "    'Bubble Point', xy=(Qb(q_test, pwf_test, pr, pb), pb),xytext=(Qb(q_test, pwf_test, pr, pb) + 100, pb + 100) ,\n",
    "    arrowprops=dict(arrowstyle='->',lw=1)\n",
    "    )\n",
    "    # Horizontal and Vertical lines at bubble point\n",
    "    plt.axhline(y=pb, color='r', linestyle='--')\n",
    "    plt.axvline(x=Qb(q_test, pwf_test, pr, pb), color='r', linestyle='--')\n",
    "    ax.grid()\n",
    "    plt.show()"
   ],
   "metadata": {
    "collapsed": false,
    "pycharm": {
     "name": "#%%\n"
    }
   }
  },
  {
   "cell_type": "code",
   "execution_count": null,
   "outputs": [],
   "source": [
    "# Data\n",
    "pr = 4000 #psi\n",
    "pb = 3000 #psi\n",
    "q_test = 600 #bpd\n",
    "pwf_test = 2000 #bpd\n",
    "pwf = np.array([4000, 3500, 3000, 2500, 1000, 0])"
   ],
   "metadata": {
    "collapsed": false,
    "pycharm": {
     "name": "#%%\n"
    }
   }
  },
  {
   "cell_type": "code",
   "execution_count": null,
   "outputs": [],
   "source": [
    "IPR_curve(q_test, pwf_test, pr, pwf, pb)"
   ],
   "metadata": {
    "collapsed": false,
    "pycharm": {
     "name": "#%%\n"
    }
   }
  },
  {
   "cell_type": "markdown",
   "source": [
    "## **2.3. IPR curve valid for the 3 methods reviewed** "
   ],
   "metadata": {
    "collapsed": false,
    "pycharm": {
     "name": "#%% md\n"
    }
   }
  },
  {
   "cell_type": "code",
   "execution_count": null,
   "outputs": [],
   "source": [
    "# IPR Curve\n",
    "def IPR_curve_methods(q_test, pwf_test, pr, pwf:list, pb, method, ef=1, ef2=None):\n",
    "    # Creating Dataframe\n",
    "    fig, ax = plt.subplots(figsize=(20, 10))\n",
    "    df = pd.DataFrame()\n",
    "    df['Pwf(psia)'] = pwf\n",
    "    if method == 'Darcy':\n",
    "        df['Qo(bpd)'] = df['Pwf(psia)'].apply(lambda x: qo_darcy(q_test, pwf_test, pr, x, pb))\n",
    "    elif method == 'Vogel':\n",
    "        df['Qo(bpd)'] = df['Pwf(psia)'].apply(lambda x: qo_vogel(q_test, pwf_test, pr, x, pb))\n",
    "    elif method == 'IPR_compuesto':\n",
    "        df['Qo(bpd)'] = df['Pwf(psia)'].apply(lambda x: qo_ipr_compuesto(q_test, pwf_test, pr, x, pb))\n",
    "    elif method == 'Standing':\n",
    "        df['Qo(bpd)'] = df['Pwf(psia)'].apply(lambda x: qo_standing(q_test, pwf_test, pr, pwf, pb, ef=1, ef2=None))\n",
    "    # Stand the axis of the IPR plot\n",
    "    x = df['Qo(bpd)']\n",
    "    y = df['Pwf(psia)']\n",
    "    # The following steps are used to smooth the curve\n",
    "    X_Y_Spline = make_interp_spline(x, y) \n",
    "    X_ = np.linspace(x.min(), x.max(), 500)\n",
    "    Y_ = X_Y_Spline(X_)\n",
    "    #Build the curve\n",
    "    ax.plot(X_, Y_, c='g')\n",
    "    ax.set_xlabel('Qo(bpd)', fontsize=14)\n",
    "    ax.set_ylabel('Pwf(psia)', fontsize=14)\n",
    "    ax.set_title('IPR', fontsize=18)\n",
    "    ax.set(xlim=(0, df['Qo(bpd)'].max() + 10), ylim=(0, df['Pwf(psia)'].max() + 100))\n",
    "    # Arrow and Annotations\n",
    "    plt.annotate(\n",
    "    'Bubble Point', xy=(Qb(q_test, pwf_test, pr, pb), pb),xytext=(Qb(q_test, pwf_test, pr, pb) + 100, pb + 100) ,\n",
    "    arrowprops=dict(arrowstyle='->',lw=1)\n",
    "    )\n",
    "    # Horizontal and Vertical lines at bubble point\n",
    "    plt.axhline(y=pb, color='r', linestyle='--')\n",
    "    plt.axvline(x=Qb(q_test, pwf_test, pr, pb), color='r', linestyle='--')\n",
    "    ax.grid()\n",
    "    plt.show()"
   ],
   "metadata": {
    "collapsed": false,
    "pycharm": {
     "name": "#%%\n"
    }
   }
  },
  {
   "cell_type": "code",
   "execution_count": null,
   "outputs": [],
   "source": [
    "IPR_curve_methods(q_test, pwf_test, pr, pwf, pb, 'Darcy')"
   ],
   "metadata": {
    "collapsed": false,
    "pycharm": {
     "name": "#%%\n"
    }
   }
  },
  {
   "cell_type": "code",
   "execution_count": null,
   "outputs": [],
   "source": [
    "IPR_curve_methods(q_test, pwf_test, pr, pwf, pb, 'IPR_compuesto')"
   ],
   "metadata": {
    "collapsed": false,
    "pycharm": {
     "name": "#%%\n"
    }
   }
  },
  {
   "cell_type": "code",
   "execution_count": null,
   "outputs": [],
   "source": [
    "# Data from a saturated reservoir\n",
    "pr = 2400 #psia\n",
    "pb = 2500 #psia\n",
    "pwf = np.array([2400, 2000, 1500, 1000, 0]) #psia\n",
    "q_test = 100 #stb/d\n",
    "pwf_test = 1800 #psia"
   ],
   "metadata": {
    "collapsed": false,
    "pycharm": {
     "name": "#%%\n"
    }
   }
  },
  {
   "cell_type": "code",
   "execution_count": null,
   "outputs": [],
   "source": [
    "IPR_curve_methods(q_test, pwf_test, pr, pwf, pb, 'Vogel')"
   ],
   "metadata": {
    "collapsed": false,
    "pycharm": {
     "name": "#%%\n"
    }
   }
  },
  {
   "cell_type": "code",
   "execution_count": null,
   "outputs": [],
   "source": [
    "# IPR Curve\n",
    "def IPR_Curve(q_test, pwf_test, pr, pwf:list, pb, ef=1, ef2=None, ax=None):\n",
    "    # Creating Dataframe\n",
    "    df = pd.DataFrame()\n",
    "    df['Pwf(psia)'] = pwf\n",
    "    df['Qo(bpd)'] = df['Pwf(psia)'].apply(lambda x: qo(q_test, pwf_test, pr, x, pb, ef, ef2))\n",
    "    fig, ax = plt.subplots(figsize=(20, 10))\n",
    "    x = df['Qo(bpd)']\n",
    "    y = df['Pwf(psia)']\n",
    "    # The following steps are used to smooth the curve\n",
    "    X_Y_Spline = make_interp_spline(x, y) \n",
    "    X_ = np.linspace(x.min(), x.max(), 500)\n",
    "    Y_ = X_Y_Spline(X_)\n",
    "    #Build the curve\n",
    "    ax.plot(X_, Y_, c='g')\n",
    "    ax.set_xlabel('Qo(bpd)', fontsize=14)\n",
    "    ax.set_ylabel('Pwf(psia)', fontsize=14)\n",
    "    ax.set_title('IPR', fontsize=18)\n",
    "    ax.set(xlim=(0, df['Qo(bpd)'].max() + 10), ylim=(0, df['Pwf(psia)'][0] + 100))\n",
    "    # Arrow and Annotations\n",
    "    plt.annotate(\n",
    "    'Bubble Point', xy=(Qb(q_test, pwf_test, pr, pb), pb),xytext=(Qb(q_test, pwf_test, pr, pb) + 100, pb + 100) ,\n",
    "    arrowprops=dict(arrowstyle='->',lw=1)\n",
    "    )\n",
    "    # Horizontal and Vertical lines at bubble point\n",
    "    plt.axhline(y=pb, color='r', linestyle='--')\n",
    "    plt.axvline(x=Qb(q_test, pwf_test, pr, pb), color='r', linestyle='--')\n",
    "    ax.grid()\n",
    "    plt.show()"
   ],
   "metadata": {
    "collapsed": false,
    "pycharm": {
     "name": "#%%\n"
    }
   }
  },
  {
   "cell_type": "code",
   "execution_count": null,
   "outputs": [],
   "source": [
    "IPR_Curve(q_test, pwf_test, pr, pwf, pb)"
   ],
   "metadata": {
    "collapsed": false,
    "pycharm": {
     "name": "#%%\n"
    }
   }
  },
  {
   "cell_type": "markdown",
   "source": [
    "## *Exercise 1*\n",
    "\n",
    "Based on the following data, calculate:\n",
    "\n",
    "- a) Productivity index\n",
    "- b) $Q_{o}$ a $Pwf$ = 40 bar\n",
    "- c) AOF"
   ],
   "metadata": {
    "collapsed": false,
    "pycharm": {
     "name": "#%% md\n"
    }
   }
  },
  {
   "cell_type": "code",
   "execution_count": null,
   "outputs": [],
   "source": [
    "# Data\n",
    "pr = 120 #bar\n",
    "pb = 65 #bar\n",
    "q_test = 400 #m3/d\n",
    "pwf_test = 100 #bar"
   ],
   "metadata": {
    "collapsed": false,
    "pycharm": {
     "name": "#%%\n"
    }
   }
  },
  {
   "cell_type": "markdown",
   "source": [
    "### a) J"
   ],
   "metadata": {
    "collapsed": false,
    "pycharm": {
     "name": "#%% md\n"
    }
   }
  },
  {
   "cell_type": "code",
   "execution_count": null,
   "outputs": [],
   "source": [
    "IP = j(q_test, pwf_test, pr, pb)\n",
    "print(f\"j -> {IP} m3/dbar\")"
   ],
   "metadata": {
    "collapsed": false,
    "pycharm": {
     "name": "#%%\n"
    }
   }
  },
  {
   "cell_type": "markdown",
   "source": [
    "### b) Qo @Pwf = 40 bar"
   ],
   "metadata": {
    "collapsed": false,
    "pycharm": {
     "name": "#%% md\n"
    }
   }
  },
  {
   "cell_type": "code",
   "execution_count": null,
   "outputs": [],
   "source": [
    "Q = qo(q_test, pwf_test, pr, 40, pb)\n",
    "print(f\"Qo -> {Q:.3f} m3/d\")"
   ],
   "metadata": {
    "collapsed": false,
    "pycharm": {
     "name": "#%%\n"
    }
   }
  },
  {
   "cell_type": "markdown",
   "source": [
    "### c) AOF"
   ],
   "metadata": {
    "collapsed": false,
    "pycharm": {
     "name": "#%% md\n"
    }
   }
  },
  {
   "cell_type": "code",
   "execution_count": null,
   "outputs": [],
   "source": [
    "q_max = aof(q_test, pwf_test, pr, pb)\n",
    "print(f\"AOF -> {q_max} m3/d\")"
   ],
   "metadata": {
    "collapsed": false,
    "pycharm": {
     "name": "#%%\n"
    }
   }
  },
  {
   "cell_type": "markdown",
   "source": [
    "## *Exercise 2*\n",
    "\n",
    "Based on the following data, calculate:\n",
    "\n",
    "- a) AOF\n",
    "- b) $Q_{o}$ a $Pwf$ = 1200 psi\n",
    "- c) Plot IPR Curve"
   ],
   "metadata": {
    "collapsed": false,
    "pycharm": {
     "name": "#%% md\n"
    }
   }
  },
  {
   "cell_type": "code",
   "execution_count": null,
   "outputs": [],
   "source": [
    "# Data\n",
    "pr = 4000 #psi\n",
    "pb = 3000 #psi\n",
    "q_test = 600 #bpd\n",
    "pwf_test = 2000 #bpd\n",
    "pwf = np.array([4000, 3500, 3000, 2500, 1000, 0])"
   ],
   "metadata": {
    "collapsed": false,
    "pycharm": {
     "name": "#%%\n"
    }
   }
  },
  {
   "cell_type": "markdown",
   "source": [
    "### a) AOF"
   ],
   "metadata": {
    "collapsed": false,
    "pycharm": {
     "name": "#%% md\n"
    }
   }
  },
  {
   "cell_type": "code",
   "execution_count": null,
   "outputs": [],
   "source": [
    "aof(q_test, pwf_test, pr, pb)"
   ],
   "metadata": {
    "collapsed": false,
    "pycharm": {
     "name": "#%%\n"
    }
   }
  },
  {
   "cell_type": "markdown",
   "source": [
    "### b) Qo @ Pwf = 1200 psi"
   ],
   "metadata": {
    "collapsed": false,
    "pycharm": {
     "name": "#%% md\n"
    }
   }
  },
  {
   "cell_type": "code",
   "execution_count": null,
   "outputs": [],
   "source": [
    "qo(q_test, pwf_test, pr, 1200, pb)"
   ],
   "metadata": {
    "collapsed": false,
    "pycharm": {
     "name": "#%%\n"
    }
   }
  },
  {
   "cell_type": "code",
   "execution_count": 28,
   "metadata": {},
   "outputs": [
    {
     "name": "stdout",
     "output_type": "stream",
     "text": [
      "j -> 20.0 m3/dbar\n"
     ]
    }
   ],
   "source": [
    "IP = j(q_test, pwf_test, pr, pb)\n",
    "print(f\"j -> {IP} m3/dbar\")"
   ]
  },
  {
   "cell_type": "markdown",
   "metadata": {},
   "source": [
    "### b) Qo @Pwf = 40 bar"
   ]
  },
  {
   "cell_type": "code",
   "execution_count": 31,
   "metadata": {},
   "outputs": [
    {
     "name": "stdout",
     "output_type": "stream",
     "text": [
      "Qo -> 1514.530 m3/d\n"
     ]
    }
   ],
   "source": [
    "Q = qo(q_test, pwf_test, pr, 40, pb)\n",
    "print(f\"Qo -> {Q:.3f} m3/d\")"
   ]
  },
  {
   "cell_type": "markdown",
   "metadata": {},
   "source": [
    "### c) AOF"
   ]
  },
  {
   "cell_type": "code",
   "execution_count": 32,
   "metadata": {},
   "outputs": [
    {
     "name": "stdout",
     "output_type": "stream",
     "text": [
      "AOF -> 2400.0 m3/d\n"
     ]
    }
   ],
   "source": [
    "q_max = aof(q_test, pwf_test, pr, pb)\n",
    "print(f\"AOF -> {q_max} m3/d\")"
   ]
  },
  {
   "cell_type": "markdown",
   "metadata": {},
   "source": [
    "## *Exercise 2*\n",
    "\n",
    "Based on the following data, calculate:\n",
    "\n",
    "- a) AOF\n",
    "- b) $Q_{o}$ a $Pwf$ = 1200 psi\n",
    "- c) Plot IPR Curve"
   ]
  },
  {
   "cell_type": "code",
   "execution_count": 37,
   "metadata": {
    "collapsed": false,
    "jupyter": {
     "outputs_hidden": false
    }
   },
   "outputs": [],
   "source": [
    "# Data\n",
    "pr = 4000 #psi\n",
    "pb = 3000 #psi\n",
    "q_test = 600 #bpd\n",
    "pwf_test = 2000 #bpd\n",
    "pwf = np.array([4000, 3500, 3000, 2500, 1000, 0])"
   ]
  },
  {
   "cell_type": "markdown",
   "metadata": {},
   "source": [
    "### a) AOF"
   ]
  },
  {
   "cell_type": "code",
   "execution_count": 38,
   "metadata": {},
   "outputs": [
    {
     "data": {
      "text/plain": [
       "864.0"
      ]
     },
     "execution_count": 38,
     "metadata": {},
     "output_type": "execute_result"
    }
   ],
   "source": [
    "aof(q_test, pwf_test, pr, pb)"
   ]
  },
  {
   "cell_type": "markdown",
   "metadata": {},
   "source": [
    "### b) Qo @ Pwf = 1200 psi"
   ]
  },
  {
   "cell_type": "code",
   "execution_count": 39,
   "metadata": {},
   "outputs": [
    {
     "data": {
      "text/plain": [
       "751.68"
      ]
     },
     "execution_count": 39,
     "metadata": {},
     "output_type": "execute_result"
    }
   ],
   "source": [
    "qo(q_test, pwf_test, pr, 1200, pb)"
   ]
  },
  {
   "cell_type": "markdown",
   "metadata": {},
   "source": [
    "## *Exercise 3*\n",
    "\n",
    "Based on the following data, calculate:\n",
    "\n",
    "- a) Productivity index\n",
    "- b) Oil flow rate at bubble point\n",
    "- c) AOF\n",
    "- d) $Q_{o}$ a $Pwf$ = 1500 psi\n",
    "- e) Plot IPR curve"
   ]
  },
  {
   "cell_type": "code",
   "execution_count": 210,
   "metadata": {
    "collapsed": false,
    "jupyter": {
     "outputs_hidden": false
    }
   },
   "outputs": [],
   "source": [
    "# Data\n",
    "pr = 4000 #psi\n",
    "pb = 3000 #psi\n",
    "q_test = 600 #bpd\n",
    "pwf_test = 2000 #bpd\n",
    "pwf = np.array([4000, 3500, 3000, 2500, 1000, 0])\n",
    "ef=1"
   ]
  }
 ],
 "metadata": {
  "deepnote": {},
  "deepnote_execution_queue": [],
  "deepnote_notebook_id": "21d5ef8f-8920-4d67-a038-22d7159b6c07",
  "kernelspec": {
   "display_name": "Python 3 (ipykernel)",
   "language": "python",
   "name": "python3"
  },
  "language_info": {
   "codemirror_mode": {
    "name": "ipython",
    "version": 3
   },
   "file_extension": ".py",
   "mimetype": "text/x-python",
   "name": "python",
   "nbconvert_exporter": "python",
   "pygments_lexer": "ipython3",
   "version": "3.10.6"
  }
 },
 "nbformat": 4,
 "nbformat_minor": 4
}